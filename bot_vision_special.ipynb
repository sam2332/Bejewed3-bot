{
 "cells": [
  {
   "cell_type": "code",
   "execution_count": 2,
   "id": "237d59b9",
   "metadata": {},
   "outputs": [
    {
     "name": "stdout",
     "output_type": "stream",
     "text": [
      "Defaulting to user installation because normal site-packages is not writeable\n",
      "Collecting opencv-python\n",
      "  Downloading opencv_python-4.11.0.86-cp37-abi3-win_amd64.whl.metadata (20 kB)\n"
     ]
    },
    {
     "name": "stderr",
     "output_type": "stream",
     "text": [
      "ERROR: Could not find a version that satisfies the requirement tensorflow (from versions: none)\n",
      "ERROR: No matching distribution found for tensorflow\n"
     ]
    }
   ],
   "source": [
    "!pip install opencv-python tensorflow numpy\n"
   ]
  },
  {
   "cell_type": "code",
   "execution_count": null,
   "id": "d2203792",
   "metadata": {},
   "outputs": [],
   "source": [
    "import cv2\n",
    "import numpy as np\n",
    "from tensorflow.keras.models import Sequential\n",
    "from tensorflow.keras.layers import Conv2D, MaxPooling2D, Flatten, Dense\n",
    "\n",
    "# === File paths ===\n",
    "video_path = \"Screen Recording 2025-06-16 231138.mp4\"\n",
    "target_image_path = \"c7af1a8a-6fc6-4a80-8c26-df0f88e6e222.png\"\n",
    "frame_size = (64, 64)\n",
    "frame_skip = 5\n",
    "\n",
    "# === Load and preprocess image ===\n",
    "img = cv2.imread(target_image_path)\n",
    "img = cv2.resize(img, frame_size) / 255.0\n",
    "X_train = np.array([img])\n",
    "y_train = np.array([1])\n",
    "\n",
    "# === Build model ===\n",
    "model = Sequential([\n",
    "    Conv2D(16, (3, 3), activation='relu', input_shape=(64, 64, 3)),\n",
    "    MaxPooling2D(),\n",
    "    Conv2D(32, (3, 3), activation='relu'),\n",
    "    MaxPooling2D(),\n",
    "    Flatten(),\n",
    "    Dense(64, activation='relu'),\n",
    "    Dense(1, activation='sigmoid')\n",
    "])\n",
    "model.compile(optimizer='adam', loss='binary_crossentropy')\n",
    "model.fit(X_train, y_train, epochs=10, verbose=1)\n",
    "\n",
    "# === Scan video ===\n",
    "cap = cv2.VideoCapture(video_path)\n",
    "matches = []\n",
    "index = 0\n",
    "\n",
    "while cap.isOpened():\n",
    "    ret, frame = cap.read()\n",
    "    if not ret:\n",
    "        break\n",
    "    if index % frame_skip == 0:\n",
    "        f = cv2.resize(frame, frame_size) / 255.0\n",
    "        p = model.predict(np.array([f]), verbose=0)\n",
    "        if p[0][0] > 0.9:\n",
    "            t = cap.get(cv2.CAP_PROP_POS_MSEC) / 1000\n",
    "            matches.append((index, t))\n",
    "    index += 1\n",
    "\n",
    "cap.release()\n",
    "\n",
    "for idx, ts in matches:\n",
    "    print(f\"Match at frame {idx}, time {ts:.2f}s\")\n"
   ]
  }
 ],
 "metadata": {
  "kernelspec": {
   "display_name": "Python 3",
   "language": "python",
   "name": "python3"
  },
  "language_info": {
   "codemirror_mode": {
    "name": "ipython",
    "version": 3
   },
   "file_extension": ".py",
   "mimetype": "text/x-python",
   "name": "python",
   "nbconvert_exporter": "python",
   "pygments_lexer": "ipython3",
   "version": "3.13.4"
  }
 },
 "nbformat": 4,
 "nbformat_minor": 5
}
